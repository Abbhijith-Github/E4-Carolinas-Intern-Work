{
  "nbformat": 4,
  "nbformat_minor": 0,
  "metadata": {
    "colab": {
      "name": "Copy of Energy_Storage_ED.ipynb",
      "provenance": []
    },
    "kernelspec": {
      "name": "python3",
      "display_name": "Python 3"
    },
    "language_info": {
      "name": "python"
    }
  },
  "cells": [
    {
      "cell_type": "markdown",
      "source": [
        "ED of batteries (Assume fully charged and ready to be dispatched)"
      ],
      "metadata": {
        "id": "YwcoLYVWKDcK"
      }
    },
    {
      "cell_type": "markdown",
      "source": [
        "Values in dataset are randomly generated. Needs to be fine-tuned, should you want model a realistic scenario. No code modification is needed. "
      ],
      "metadata": {
        "id": "PFgzc7Z06FqF"
      }
    },
    {
      "cell_type": "code",
      "execution_count": null,
      "metadata": {
        "colab": {
          "base_uri": "https://localhost:8080/"
        },
        "id": "NKfH4ZKy1yMp",
        "outputId": "30f6a375-f21d-4d1a-a7d4-ca92b62cc681"
      },
      "outputs": [
        {
          "output_type": "stream",
          "name": "stdout",
          "text": [
            "Looking in indexes: https://pypi.org/simple, https://us-python.pkg.dev/colab-wheels/public/simple/\n",
            "Requirement already satisfied: pyomo in /usr/local/lib/python3.7/dist-packages (6.4.1)\n",
            "Requirement already satisfied: ply in /usr/local/lib/python3.7/dist-packages (from pyomo) (3.11)\n"
          ]
        }
      ],
      "source": [
        "# Installing pyomo and 'cbc' solver\n",
        "!pip install pyomo\n",
        "!apt-get install -y -qq coinor-cbc\n",
        "from pyomo.environ import *"
      ]
    },
    {
      "cell_type": "code",
      "source": [
        "# Importing the libraries\n",
        "import numpy as np\n",
        "import pandas as pd\n",
        "import matplotlib.pyplot as plt"
      ],
      "metadata": {
        "id": "vnEOnP7611wr"
      },
      "execution_count": null,
      "outputs": []
    },
    {
      "cell_type": "code",
      "source": [
        "# Reading the data\n",
        "battery_data = pd.read_excel('Energy_Storage_ED.xlsx', sheet_name='Battery_Data')\n",
        "load_data = pd.read_excel('Energy_Storage_ED.xlsx', sheet_name='Demand_Data')"
      ],
      "metadata": {
        "id": "46i9T41B15g_"
      },
      "execution_count": null,
      "outputs": []
    },
    {
      "cell_type": "code",
      "source": [
        "# Converting atttributes to numpy arrays\n",
        "discharge_unitary_cost = battery_data.loc[:, 'CD ($/MWh)'].to_numpy()\n",
        "installed_energy_capacity = battery_data.loc[:, 'SE (MWh)'].to_numpy()\n",
        "rated_power = battery_data.loc[:, 'SP (MW)'].to_numpy()\n",
        "discharge_rate = battery_data.loc[:, 'MD'].to_numpy()\n",
        "discharge_efficiency = battery_data.loc[:, 'EFD'].to_numpy()\n",
        "demand = load_data.loc[:, 'Demand (MW)'].to_numpy()"
      ],
      "metadata": {
        "id": "2u3L4OiC2QKT"
      },
      "execution_count": null,
      "outputs": []
    },
    {
      "cell_type": "code",
      "source": [
        "# Creating numpy arrays for number of generators, nodes, lines, and time periods. \n",
        "B=np.array([g for g in range(0,len(battery_data))]) \n",
        "T=np.array([t for t in range(0,len(load_data))])\n",
        "T1=np.array([t for t in range(1,len(load_data))])"
      ],
      "metadata": {
        "id": "TtdBR7WN3o3k"
      },
      "execution_count": null,
      "outputs": []
    },
    {
      "cell_type": "code",
      "source": [
        "B #Just as a check"
      ],
      "metadata": {
        "colab": {
          "base_uri": "https://localhost:8080/"
        },
        "id": "uEdySAeT3_Cg",
        "outputId": "4a04ffc2-d760-4b1f-b5c4-0eba0d107f78"
      },
      "execution_count": null,
      "outputs": [
        {
          "output_type": "execute_result",
          "data": {
            "text/plain": [
              "array([ 0,  1,  2,  3,  4,  5,  6,  7,  8,  9, 10, 11, 12, 13, 14, 15, 16,\n",
              "       17, 18, 19])"
            ]
          },
          "metadata": {},
          "execution_count": 20
        }
      ]
    },
    {
      "cell_type": "code",
      "source": [
        "T #Just as a check"
      ],
      "metadata": {
        "colab": {
          "base_uri": "https://localhost:8080/"
        },
        "id": "MqCwwc8t3_ya",
        "outputId": "6b734c0d-77a3-437f-fcd8-a353f5094538"
      },
      "execution_count": null,
      "outputs": [
        {
          "output_type": "execute_result",
          "data": {
            "text/plain": [
              "array([0, 1, 2, 3, 4])"
            ]
          },
          "metadata": {},
          "execution_count": 21
        }
      ]
    },
    {
      "cell_type": "code",
      "source": [
        "T1 #Just as a check"
      ],
      "metadata": {
        "colab": {
          "base_uri": "https://localhost:8080/"
        },
        "id": "MBa1nCEQ4dQi",
        "outputId": "830f808c-eb03-4c59-98e5-85a154bd0f7c"
      },
      "execution_count": null,
      "outputs": [
        {
          "output_type": "execute_result",
          "data": {
            "text/plain": [
              "array([1, 2, 3, 4])"
            ]
          },
          "metadata": {},
          "execution_count": 22
        }
      ]
    },
    {
      "cell_type": "code",
      "source": [
        "#ED MODEL\n",
        "def ED():\n",
        "    m=ConcreteModel()\n",
        "    m.dual = Suffix(direction=Suffix.IMPORT)#Create a 'dual' suffix component on the instance so the solver plugin will know which suffixes to collect\n",
        "    m.B=Set(initialize=B)\n",
        "    m.T=Set(initialize=T)\n",
        "    m.T1=Set(initialize=T1)\n",
        "\n",
        "    #Decision Variables\n",
        "    m.b=Var(m.B, m.T, within=PositiveReals) # Energy discharged by battery x at time t\n",
        "    m.e=Var(m.B, m.T, within=PositiveReals) # Energy present in the battery x at time t\n",
        "\n",
        "    #Objective function\n",
        "    m.system_cost=Objective(expr=sum(sum(m.b[x,t]*(discharge_unitary_cost[x]) for x in m.B) for t in m.T), sense=minimize)#Objective is to minimize discharging costs\n",
        "\n",
        "    #Constraints\n",
        "    # 1. Energy at time t = Energy at time t-1 - discharge\n",
        "    m.energyconstraint = Constraint(m.B, m.T1, rule=lambda m, x, t1: m.e[x,t1] == m.e[x,t1-1] - m.b[x,t1])\n",
        "    # 2. Capacity Constraint\n",
        "    m.capacityconstraint = Constraint(m.B, m.T, rule=lambda m, x, t: m.e[x,t] <= installed_energy_capacity[x])\n",
        "    # 3. Energy leaving is constrained by discharge capacity\n",
        "    m.energyleavingconstraint = Constraint(m.B, m.T, rule=lambda m, x, t: m.b[x,t] <= discharge_rate[x]*rated_power[x])\n",
        "    # 4. Energy Balance Constraint\n",
        "    m.energybalance = Constraint(m.B, m.T, rule=lambda m, x, t: sum(m.b[x,t]*discharge_efficiency[x] for x in m.B) == demand[t])\n",
        "\n",
        "    return m"
      ],
      "metadata": {
        "id": "vjRvByY84ROS"
      },
      "execution_count": null,
      "outputs": []
    },
    {
      "cell_type": "code",
      "source": [
        "m = ED()\n",
        "SolverFactory('cbc', executable='/usr/bin/cbc').solve(m).write() # Solving the model"
      ],
      "metadata": {
        "colab": {
          "base_uri": "https://localhost:8080/"
        },
        "id": "XMG9wKwL95ex",
        "outputId": "3dd9d54d-1df6-4fc3-d800-5f8696cbd641"
      },
      "execution_count": null,
      "outputs": [
        {
          "output_type": "stream",
          "name": "stdout",
          "text": [
            "# ==========================================================\n",
            "# = Solver Results                                         =\n",
            "# ==========================================================\n",
            "# ----------------------------------------------------------\n",
            "#   Problem Information\n",
            "# ----------------------------------------------------------\n",
            "Problem: \n",
            "- Name: unknown\n",
            "  Lower bound: 80425.02526\n",
            "  Upper bound: 80425.02526\n",
            "  Number of objectives: 1\n",
            "  Number of constraints: 381\n",
            "  Number of variables: 201\n",
            "  Number of nonzeros: 95\n",
            "  Sense: minimize\n",
            "# ----------------------------------------------------------\n",
            "#   Solver Information\n",
            "# ----------------------------------------------------------\n",
            "Solver: \n",
            "- Status: ok\n",
            "  User time: -1.0\n",
            "  System time: 0.01\n",
            "  Wallclock time: 0.01\n",
            "  Termination condition: optimal\n",
            "  Termination message: Model was solved to optimality (subject to tolerances), and an optimal solution is available.\n",
            "  Statistics: \n",
            "    Branch and bound: \n",
            "      Number of bounded subproblems: None\n",
            "      Number of created subproblems: None\n",
            "    Black box: \n",
            "      Number of iterations: 36\n",
            "  Error rc: 0\n",
            "  Time: 0.026134967803955078\n",
            "# ----------------------------------------------------------\n",
            "#   Solution Information\n",
            "# ----------------------------------------------------------\n",
            "Solution: \n",
            "- number of solutions: 0\n",
            "  number of solutions displayed: 0\n"
          ]
        }
      ]
    },
    {
      "cell_type": "code",
      "source": [
        "m.energyleavingconstraint.pprint() # Just as a check"
      ],
      "metadata": {
        "id": "BqEMiL6BDTH3",
        "colab": {
          "base_uri": "https://localhost:8080/"
        },
        "outputId": "22dff6b9-ed48-402e-b39c-876eb4cd7a31"
      },
      "execution_count": null,
      "outputs": [
        {
          "output_type": "stream",
          "name": "stdout",
          "text": [
            "energyleavingconstraint : Size=100, Index=energyleavingconstraint_index, Active=True\n",
            "    Key     : Lower : Body    : Upper             : Active\n",
            "     (0, 0) :  -Inf :  b[0,0] : 66.92999999999999 :   True\n",
            "     (0, 1) :  -Inf :  b[0,1] : 66.92999999999999 :   True\n",
            "     (0, 2) :  -Inf :  b[0,2] : 66.92999999999999 :   True\n",
            "     (0, 3) :  -Inf :  b[0,3] : 66.92999999999999 :   True\n",
            "     (0, 4) :  -Inf :  b[0,4] : 66.92999999999999 :   True\n",
            "     (1, 0) :  -Inf :  b[1,0] :             70.81 :   True\n",
            "     (1, 1) :  -Inf :  b[1,1] :             70.81 :   True\n",
            "     (1, 2) :  -Inf :  b[1,2] :             70.81 :   True\n",
            "     (1, 3) :  -Inf :  b[1,3] :             70.81 :   True\n",
            "     (1, 4) :  -Inf :  b[1,4] :             70.81 :   True\n",
            "     (2, 0) :  -Inf :  b[2,0] :             94.09 :   True\n",
            "     (2, 1) :  -Inf :  b[2,1] :             94.09 :   True\n",
            "     (2, 2) :  -Inf :  b[2,2] :             94.09 :   True\n",
            "     (2, 3) :  -Inf :  b[2,3] :             94.09 :   True\n",
            "     (2, 4) :  -Inf :  b[2,4] :             94.09 :   True\n",
            "     (3, 0) :  -Inf :  b[3,0] :             49.47 :   True\n",
            "     (3, 1) :  -Inf :  b[3,1] :             49.47 :   True\n",
            "     (3, 2) :  -Inf :  b[3,2] :             49.47 :   True\n",
            "     (3, 3) :  -Inf :  b[3,3] :             49.47 :   True\n",
            "     (3, 4) :  -Inf :  b[3,4] :             49.47 :   True\n",
            "     (4, 0) :  -Inf :  b[4,0] :             54.32 :   True\n",
            "     (4, 1) :  -Inf :  b[4,1] :             54.32 :   True\n",
            "     (4, 2) :  -Inf :  b[4,2] :             54.32 :   True\n",
            "     (4, 3) :  -Inf :  b[4,3] :             54.32 :   True\n",
            "     (4, 4) :  -Inf :  b[4,4] :             54.32 :   True\n",
            "     (5, 0) :  -Inf :  b[5,0] : 80.50999999999999 :   True\n",
            "     (5, 1) :  -Inf :  b[5,1] : 80.50999999999999 :   True\n",
            "     (5, 2) :  -Inf :  b[5,2] : 80.50999999999999 :   True\n",
            "     (5, 3) :  -Inf :  b[5,3] : 80.50999999999999 :   True\n",
            "     (5, 4) :  -Inf :  b[5,4] : 80.50999999999999 :   True\n",
            "     (6, 0) :  -Inf :  b[6,0] :             72.75 :   True\n",
            "     (6, 1) :  -Inf :  b[6,1] :             72.75 :   True\n",
            "     (6, 2) :  -Inf :  b[6,2] :             72.75 :   True\n",
            "     (6, 3) :  -Inf :  b[6,3] :             72.75 :   True\n",
            "     (6, 4) :  -Inf :  b[6,4] :             72.75 :   True\n",
            "     (7, 0) :  -Inf :  b[7,0] :             51.41 :   True\n",
            "     (7, 1) :  -Inf :  b[7,1] :             51.41 :   True\n",
            "     (7, 2) :  -Inf :  b[7,2] :             51.41 :   True\n",
            "     (7, 3) :  -Inf :  b[7,3] :             51.41 :   True\n",
            "     (7, 4) :  -Inf :  b[7,4] :             51.41 :   True\n",
            "     (8, 0) :  -Inf :  b[8,0] :             56.26 :   True\n",
            "     (8, 1) :  -Inf :  b[8,1] :             56.26 :   True\n",
            "     (8, 2) :  -Inf :  b[8,2] :             56.26 :   True\n",
            "     (8, 3) :  -Inf :  b[8,3] :             56.26 :   True\n",
            "     (8, 4) :  -Inf :  b[8,4] :             56.26 :   True\n",
            "     (9, 0) :  -Inf :  b[9,0] :             86.33 :   True\n",
            "     (9, 1) :  -Inf :  b[9,1] :             86.33 :   True\n",
            "     (9, 2) :  -Inf :  b[9,2] :             86.33 :   True\n",
            "     (9, 3) :  -Inf :  b[9,3] :             86.33 :   True\n",
            "     (9, 4) :  -Inf :  b[9,4] :             86.33 :   True\n",
            "    (10, 0) :  -Inf : b[10,0] : 79.53999999999999 :   True\n",
            "    (10, 1) :  -Inf : b[10,1] : 79.53999999999999 :   True\n",
            "    (10, 2) :  -Inf : b[10,2] : 79.53999999999999 :   True\n",
            "    (10, 3) :  -Inf : b[10,3] : 79.53999999999999 :   True\n",
            "    (10, 4) :  -Inf : b[10,4] : 79.53999999999999 :   True\n",
            "    (11, 0) :  -Inf : b[11,0] :             70.81 :   True\n",
            "    (11, 1) :  -Inf : b[11,1] :             70.81 :   True\n",
            "    (11, 2) :  -Inf : b[11,2] :             70.81 :   True\n",
            "    (11, 3) :  -Inf : b[11,3] :             70.81 :   True\n",
            "    (11, 4) :  -Inf : b[11,4] :             70.81 :   True\n",
            "    (12, 0) :  -Inf : b[12,0] :             54.32 :   True\n",
            "    (12, 1) :  -Inf : b[12,1] :             54.32 :   True\n",
            "    (12, 2) :  -Inf : b[12,2] :             54.32 :   True\n",
            "    (12, 3) :  -Inf : b[12,3] :             54.32 :   True\n",
            "    (12, 4) :  -Inf : b[12,4] :             54.32 :   True\n",
            "    (13, 0) :  -Inf : b[13,0] :             83.42 :   True\n",
            "    (13, 1) :  -Inf : b[13,1] :             83.42 :   True\n",
            "    (13, 2) :  -Inf : b[13,2] :             83.42 :   True\n",
            "    (13, 3) :  -Inf : b[13,3] :             83.42 :   True\n",
            "    (13, 4) :  -Inf : b[13,4] :             83.42 :   True\n",
            "    (14, 0) :  -Inf : b[14,0] :             53.35 :   True\n",
            "    (14, 1) :  -Inf : b[14,1] :             53.35 :   True\n",
            "    (14, 2) :  -Inf : b[14,2] :             53.35 :   True\n",
            "    (14, 3) :  -Inf : b[14,3] :             53.35 :   True\n",
            "    (14, 4) :  -Inf : b[14,4] :             53.35 :   True\n",
            "    (15, 0) :  -Inf : b[15,0] :             82.45 :   True\n",
            "    (15, 1) :  -Inf : b[15,1] :             82.45 :   True\n",
            "    (15, 2) :  -Inf : b[15,2] :             82.45 :   True\n",
            "    (15, 3) :  -Inf : b[15,3] :             82.45 :   True\n",
            "    (15, 4) :  -Inf : b[15,4] :             82.45 :   True\n",
            "    (16, 0) :  -Inf : b[16,0] :             65.96 :   True\n",
            "    (16, 1) :  -Inf : b[16,1] :             65.96 :   True\n",
            "    (16, 2) :  -Inf : b[16,2] :             65.96 :   True\n",
            "    (16, 3) :  -Inf : b[16,3] :             65.96 :   True\n",
            "    (16, 4) :  -Inf : b[16,4] :             65.96 :   True\n",
            "    (17, 0) :  -Inf : b[17,0] :             65.96 :   True\n",
            "    (17, 1) :  -Inf : b[17,1] :             65.96 :   True\n",
            "    (17, 2) :  -Inf : b[17,2] :             65.96 :   True\n",
            "    (17, 3) :  -Inf : b[17,3] :             65.96 :   True\n",
            "    (17, 4) :  -Inf : b[17,4] :             65.96 :   True\n",
            "    (18, 0) :  -Inf : b[18,0] :             81.48 :   True\n",
            "    (18, 1) :  -Inf : b[18,1] :             81.48 :   True\n",
            "    (18, 2) :  -Inf : b[18,2] :             81.48 :   True\n",
            "    (18, 3) :  -Inf : b[18,3] :             81.48 :   True\n",
            "    (18, 4) :  -Inf : b[18,4] :             81.48 :   True\n",
            "    (19, 0) :  -Inf : b[19,0] :             93.12 :   True\n",
            "    (19, 1) :  -Inf : b[19,1] :             93.12 :   True\n",
            "    (19, 2) :  -Inf : b[19,2] :             93.12 :   True\n",
            "    (19, 3) :  -Inf : b[19,3] :             93.12 :   True\n",
            "    (19, 4) :  -Inf : b[19,4] :             93.12 :   True\n"
          ]
        }
      ]
    },
    {
      "cell_type": "code",
      "source": [
        "# Printing the solution\n",
        "print('SOLUTION')\n",
        "print('The total system cost is = $',m.system_cost())\n",
        "print('Commitment and Generation')\n",
        "for t in T:\n",
        " print('At time = '+ str(t))  \n",
        " for x in B:\n",
        "  print('Battery : '+str(x)+','+' Power: '+str(m.b[x,t]()))"
      ],
      "metadata": {
        "colab": {
          "base_uri": "https://localhost:8080/"
        },
        "id": "3m_S_77XCYW3",
        "outputId": "860ab741-8c83-409d-8e38-4ac3cd9c0d1e"
      },
      "execution_count": null,
      "outputs": [
        {
          "output_type": "stream",
          "name": "stdout",
          "text": [
            "SOLUTION\n",
            "The total system cost is = $ 80425.02526000001\n",
            "Commitment and Generation\n",
            "At time = 0\n",
            "Battery : 0, Power: 60.67\n",
            "Battery : 1, Power: 70.81\n",
            "Battery : 2, Power: 94.09\n",
            "Battery : 3, Power: 49.47\n",
            "Battery : 4, Power: 54.32\n",
            "Battery : 5, Power: 80.51\n",
            "Battery : 6, Power: 0.0\n",
            "Battery : 7, Power: 0.0\n",
            "Battery : 8, Power: 56.26\n",
            "Battery : 9, Power: 0.0\n",
            "Battery : 10, Power: 79.54\n",
            "Battery : 11, Power: 70.81\n",
            "Battery : 12, Power: 54.32\n",
            "Battery : 13, Power: 0.0\n",
            "Battery : 14, Power: 53.35\n",
            "Battery : 15, Power: 82.45\n",
            "Battery : 16, Power: 65.96\n",
            "Battery : 17, Power: 65.96\n",
            "Battery : 18, Power: 81.48\n",
            "Battery : 19, Power: 0.0\n",
            "At time = 1\n",
            "Battery : 0, Power: 66.93\n",
            "Battery : 1, Power: 70.81\n",
            "Battery : 2, Power: 94.09\n",
            "Battery : 3, Power: 49.47\n",
            "Battery : 4, Power: 54.32\n",
            "Battery : 5, Power: 0.0\n",
            "Battery : 6, Power: 72.75\n",
            "Battery : 7, Power: 51.41\n",
            "Battery : 8, Power: 56.26\n",
            "Battery : 9, Power: 86.33\n",
            "Battery : 10, Power: 1.38\n",
            "Battery : 11, Power: 14.57\n",
            "Battery : 12, Power: 54.32\n",
            "Battery : 13, Power: 0.0\n",
            "Battery : 14, Power: 53.35\n",
            "Battery : 15, Power: 82.45\n",
            "Battery : 16, Power: 43.202105\n",
            "Battery : 17, Power: 65.96\n",
            "Battery : 18, Power: 81.48\n",
            "Battery : 19, Power: 37.76\n",
            "At time = 2\n",
            "Battery : 0, Power: 5.21\n",
            "Battery : 1, Power: 70.81\n",
            "Battery : 2, Power: 30.258947\n",
            "Battery : 3, Power: 49.47\n",
            "Battery : 4, Power: 54.32\n",
            "Battery : 5, Power: 74.98\n",
            "Battery : 6, Power: 0.0\n",
            "Battery : 7, Power: 51.41\n",
            "Battery : 8, Power: 56.26\n",
            "Battery : 9, Power: 86.33\n",
            "Battery : 10, Power: 79.54\n",
            "Battery : 11, Power: 70.81\n",
            "Battery : 12, Power: 54.32\n",
            "Battery : 13, Power: 66.085263\n",
            "Battery : 14, Power: 53.35\n",
            "Battery : 15, Power: 44.1\n",
            "Battery : 16, Power: 59.877895\n",
            "Battery : 17, Power: 65.96\n",
            "Battery : 18, Power: 76.381579\n",
            "Battery : 19, Power: 0.0\n",
            "At time = 3\n",
            "Battery : 0, Power: 66.93\n",
            "Battery : 1, Power: 70.81\n",
            "Battery : 2, Power: 15.561053\n",
            "Battery : 3, Power: 49.47\n",
            "Battery : 4, Power: 54.32\n",
            "Battery : 5, Power: 80.51\n",
            "Battery : 6, Power: 72.75\n",
            "Battery : 7, Power: 51.41\n",
            "Battery : 8, Power: 56.26\n",
            "Battery : 9, Power: 27.34\n",
            "Battery : 10, Power: 79.54\n",
            "Battery : 11, Power: 70.81\n",
            "Battery : 12, Power: 54.32\n",
            "Battery : 13, Power: 0.0\n",
            "Battery : 14, Power: 53.35\n",
            "Battery : 15, Power: 0.0\n",
            "Battery : 16, Power: 65.96\n",
            "Battery : 17, Power: 65.96\n",
            "Battery : 18, Power: 0.0\n",
            "Battery : 19, Power: 93.12\n",
            "At time = 4\n",
            "Battery : 0, Power: 66.93\n",
            "Battery : 1, Power: 29.57\n",
            "Battery : 2, Power: 94.09\n",
            "Battery : 3, Power: 49.47\n",
            "Battery : 4, Power: 54.32\n",
            "Battery : 5, Power: 80.51\n",
            "Battery : 6, Power: 0.0\n",
            "Battery : 7, Power: 51.41\n",
            "Battery : 8, Power: 56.26\n",
            "Battery : 9, Power: 0.0\n",
            "Battery : 10, Power: 79.54\n",
            "Battery : 11, Power: 70.81\n",
            "Battery : 12, Power: 54.32\n",
            "Battery : 13, Power: 0.0\n",
            "Battery : 14, Power: 53.35\n",
            "Battery : 15, Power: 82.45\n",
            "Battery : 16, Power: 65.96\n",
            "Battery : 17, Power: 11.12\n",
            "Battery : 18, Power: 54.138421\n",
            "Battery : 19, Power: 93.12\n"
          ]
        }
      ]
    },
    {
      "cell_type": "code",
      "source": [
        "# Creating data frame for power flow on line l at time t\n",
        "output = pd.DataFrame(battery_data[\"Battery\"])\n",
        "for t in T:\n",
        "  for x in B:\n",
        "   output.at[x, str(\"t = \")+str(t)] = value(m.b[x,t])"
      ],
      "metadata": {
        "id": "dzVohe-i1kfl"
      },
      "execution_count": null,
      "outputs": []
    },
    {
      "cell_type": "code",
      "source": [
        "output.to_excel('Battery_Power_Output.xlsx')"
      ],
      "metadata": {
        "id": "q3Xf20W42D2P"
      },
      "execution_count": null,
      "outputs": []
    }
  ]
}